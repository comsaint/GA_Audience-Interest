{
 "cells": [
  {
   "cell_type": "code",
   "execution_count": 2,
   "metadata": {
    "collapsed": true
   },
   "outputs": [],
   "source": [
    "import csv\n",
    "import pandas as pd"
   ]
  },
  {
   "cell_type": "code",
   "execution_count": 7,
   "metadata": {
    "collapsed": false
   },
   "outputs": [
    {
     "name": "stdout",
     "output_type": "stream",
     "text": [
      "     Country  Gender    Age  \\\n",
      "1  Hong Kong  female  25-34   \n",
      "2  Hong Kong  female  25-34   \n",
      "3  Hong Kong  female  25-34   \n",
      "4  Hong Kong  female  25-34   \n",
      "5  Hong Kong  female  35-44   \n",
      "\n",
      "                           Affinity Category (reach)  \\\n",
      "1                                       Travel Buffs   \n",
      "2  News Junkies/Entertainment & Celebrity News Ju...   \n",
      "3                                       Movie Lovers   \n",
      "4                                            Foodies   \n",
      "5                                       Travel Buffs   \n",
      "\n",
      "                In-Market Segment  Sessions  Bounces  Pageviews  \\\n",
      "1  Travel/Hotels & Accommodations    104360    48636     407881   \n",
      "2  Travel/Hotels & Accommodations     89154    41615     326081   \n",
      "3  Travel/Hotels & Accommodations     86536    40369     310130   \n",
      "4  Travel/Hotels & Accommodations     84417    39171     324081   \n",
      "5  Travel/Hotels & Accommodations     78516    36666     317720   \n",
      "\n",
      "   Unique Pageviews  Users  Session Duration  Transactions  Quantity  \\\n",
      "1            221194  67476          13756246           279       329   \n",
      "2            186916  57656          11715697           239       273   \n",
      "3            181565  56078          11434241           218       249   \n",
      "4            179231  54517          10835842           198       229   \n",
      "5            166092  48338           9586262           193       232   \n",
      "\n",
      "     Revenue  \n",
      "1  605265.14  \n",
      "2  510948.02  \n",
      "3  466040.17  \n",
      "4  397822.14  \n",
      "5  402657.58  \n"
     ]
    }
   ],
   "source": [
    "raw_interest = pd.read_csv('Audience Interest group report - 2016 Jan-Sep.csv')\n",
    "#Filter out unknowns\n",
    "raw_interest = raw_interest[raw_interest['Country']!='(other)']\n",
    "print raw_interest.head()"
   ]
  },
  {
   "cell_type": "code",
   "execution_count": 16,
   "metadata": {
    "collapsed": false
   },
   "outputs": [
    {
     "name": "stdout",
     "output_type": "stream",
     "text": [
      "object\n"
     ]
    }
   ],
   "source": [
    "print raw_interest['Affinity Category (reach)'].dtype"
   ]
  },
  {
   "cell_type": "code",
   "execution_count": 31,
   "metadata": {
    "collapsed": false
   },
   "outputs": [
    {
     "name": "stdout",
     "output_type": "stream",
     "text": [
      "     Country  Gender    Age  Sessions  Bounces  Pageviews  Unique Pageviews  \\\n",
      "1  Hong Kong  female  25-34    104360    48636     407881            221194   \n",
      "2  Hong Kong  female  25-34     89154    41615     326081            186916   \n",
      "3  Hong Kong  female  25-34     86536    40369     310130            181565   \n",
      "4  Hong Kong  female  25-34     84417    39171     324081            179231   \n",
      "5  Hong Kong  female  35-44     78516    36666     317720            166092   \n",
      "\n",
      "   Users  Session Duration  Transactions  Quantity    Revenue  \\\n",
      "1  67476          13756246           279       329  605265.14   \n",
      "2  57656          11715697           239       273  510948.02   \n",
      "3  56078          11434241           218       249  466040.17   \n",
      "4  54517          10835842           198       229  397822.14   \n",
      "5  48338           9586262           193       232  402657.58   \n",
      "\n",
      "                                       Affinity_list  \\\n",
      "1                                     [Travel Buffs]   \n",
      "2  [News Junkies, Entertainment & Celebrity News ...   \n",
      "3                                     [Movie Lovers]   \n",
      "4                                          [Foodies]   \n",
      "5                                     [Travel Buffs]   \n",
      "\n",
      "                       InMarket_list  Affinity_level  InMarket_level  \n",
      "1  [Travel, Hotels & Accommodations]               1               2  \n",
      "2  [Travel, Hotels & Accommodations]               2               2  \n",
      "3  [Travel, Hotels & Accommodations]               1               2  \n",
      "4  [Travel, Hotels & Accommodations]               1               2  \n",
      "5  [Travel, Hotels & Accommodations]               1               2  \n"
     ]
    }
   ],
   "source": [
    "# Process Affinity, In-market\n",
    "raw_interest['Affinity_list'] = raw_interest['Affinity Category (reach)'].str.split('/')\n",
    "raw_interest['Affinity_level'] = raw_interest['Affinity_list'].apply(len)\n",
    "raw_interest['InMarket_list'] = raw_interest['In-Market Segment'].str.split('/')\n",
    "raw_interest['InMarket_level'] = raw_interest['InMarket_list'].apply(len)\n",
    "\n",
    "# remove original columns\n",
    "del raw_interest['Affinity Category (reach)']\n",
    "del raw_interest['In-Market Segment']\n",
    "print raw_interest.head()"
   ]
  },
  {
   "cell_type": "code",
   "execution_count": 60,
   "metadata": {
    "collapsed": false
   },
   "outputs": [
    {
     "name": "stdout",
     "output_type": "stream",
     "text": [
      "      Country  Gender    Age  Sessions  Bounces  Pageviews  Unique Pageviews  \\\n",
      "1   Hong Kong  female  25-34    104360    48636     407881            221194   \n",
      "2   Hong Kong  female  25-34     89154    41615     326081            186916   \n",
      "3   Hong Kong  female  25-34     86536    40369     310130            181565   \n",
      "4   Hong Kong  female  25-34     84417    39171     324081            179231   \n",
      "5   Hong Kong  female  35-44     78516    36666     317720            166092   \n",
      "6   Hong Kong  female  25-34     76307    35419     295551            162014   \n",
      "7   Hong Kong  female  25-34     73944    34528     276616            157325   \n",
      "8   Hong Kong  female  25-34     72907    34382     273984            152359   \n",
      "9   Hong Kong  female  35-44     72364    33792     277326            151791   \n",
      "10  Hong Kong  female  35-44     66785    31042     252960            140128   \n",
      "\n",
      "    Users  Session Duration  Transactions  Quantity    Revenue  \\\n",
      "1   67476          13756246           279       329  605265.14   \n",
      "2   57656          11715697           239       273  510948.02   \n",
      "3   56078          11434241           218       249  466040.17   \n",
      "4   54517          10835842           198       229  397822.14   \n",
      "5   48338           9586262           193       232  402657.58   \n",
      "6   49478           9780456           160       191  331458.54   \n",
      "7   48007           9674831           165       195  346794.08   \n",
      "8   47485           9333635           152       179  314359.84   \n",
      "9   44206           8620755           168       205  363577.28   \n",
      "10  40725           8060834           168       204  346486.28   \n",
      "\n",
      "                                        Affinity_list  \\\n",
      "1                                      [Travel Buffs]   \n",
      "2   [News Junkies, Entertainment & Celebrity News ...   \n",
      "3                                      [Movie Lovers]   \n",
      "4                                           [Foodies]   \n",
      "5                                      [Travel Buffs]   \n",
      "6               [Cooking Enthusiasts, Aspiring Chefs]   \n",
      "7                             [Shoppers, Shopaholics]   \n",
      "8                                     [Beauty Mavens]   \n",
      "9   [News Junkies, Entertainment & Celebrity News ...   \n",
      "10                                     [Movie Lovers]   \n",
      "\n",
      "                        InMarket_list  Affinity_level  InMarket_level  \n",
      "1   [Travel, Hotels & Accommodations]               1               2  \n",
      "2   [Travel, Hotels & Accommodations]               2               2  \n",
      "3   [Travel, Hotels & Accommodations]               1               2  \n",
      "4   [Travel, Hotels & Accommodations]               1               2  \n",
      "5   [Travel, Hotels & Accommodations]               1               2  \n",
      "6   [Travel, Hotels & Accommodations]               2               2  \n",
      "7   [Travel, Hotels & Accommodations]               2               2  \n",
      "8   [Travel, Hotels & Accommodations]               1               2  \n",
      "9   [Travel, Hotels & Accommodations]               2               2  \n",
      "10  [Travel, Hotels & Accommodations]               1               2  \n"
     ]
    }
   ],
   "source": [
    "# Select a market of interest\n",
    "market = 'Hong Kong'\n",
    "interest_mkt = raw_interest[raw_interest['Country']==market]\n",
    "print interest_mkt.head(10)"
   ]
  },
  {
   "cell_type": "code",
   "execution_count": 61,
   "metadata": {
    "collapsed": false
   },
   "outputs": [
    {
     "name": "stdout",
     "output_type": "stream",
     "text": [
      "     Country  Gender    Age  Sessions  Bounces  Pageviews  Unique Pageviews  \\\n",
      "0  Hong Kong  female  25-34     53803    25652     205159            112443   \n",
      "1  Hong Kong  female  25-34     51828    24392     201157            109052   \n",
      "2  Hong Kong  female  25-34     45490    21519     160257             94205   \n",
      "3  Hong Kong  female  25-34     43852    20647     166498             91994   \n",
      "4  Hong Kong  female  35-44     37530    17662     151750             78990   \n",
      "\n",
      "   Users  Session Duration  Transactions  Quantity    Revenue  Affinity_list  \\\n",
      "0  35370           6771086           114       127  231256.30  Beauty Mavens   \n",
      "1  34276           6606338           110       123  221057.18   Travel Buffs   \n",
      "2  30232           5759252            97       107  205033.79   Movie Lovers   \n",
      "3  29153           5283978            81        87  156674.16        Foodies   \n",
      "4  23770           4402922            69        81  139857.45  Beauty Mavens   \n",
      "\n",
      "                InMarket_list  Affinity_level  InMarket_level  \n",
      "0  Beauty Products & Services               1               1  \n",
      "1  Beauty Products & Services               1               1  \n",
      "2  Beauty Products & Services               1               1  \n",
      "3  Beauty Products & Services               1               1  \n",
      "4  Beauty Products & Services               1               1  \n"
     ]
    }
   ],
   "source": [
    "# Use only the top level\n",
    "interest_mkt = interest_mkt[interest_mkt['Affinity_level']==1]\n",
    "interest_mkt = interest_mkt[interest_mkt['InMarket_level']==1]\n",
    "# Convert list to str\n",
    "interest_mkt['Affinity_list']=interest_mkt['Affinity_list'].astype(str).str.replace('\\[|\\]|\\'', '')\n",
    "interest_mkt['InMarket_list']=interest_mkt['InMarket_list'].astype(str).str.replace('\\[|\\]|\\'', '')\n",
    "\n",
    "interest_mkt.reset_index(drop=True,inplace=True)\n",
    "\n",
    "print interest_mkt.head()"
   ]
  },
  {
   "cell_type": "code",
   "execution_count": 63,
   "metadata": {
    "collapsed": false
   },
   "outputs": [
    {
     "name": "stdout",
     "output_type": "stream",
     "text": [
      "        Country  Gender    Age  Sessions  Bounces  Pageviews  \\\n",
      "0     Hong Kong  female  25-34     53803    25652     205159   \n",
      "1     Hong Kong  female  25-34     51828    24392     201157   \n",
      "2     Hong Kong  female  25-34     45490    21519     160257   \n",
      "3     Hong Kong  female  25-34     43852    20647     166498   \n",
      "4     Hong Kong  female  35-44     37530    17662     151750   \n",
      "12    Hong Kong  female  25-34     31652    14588     123026   \n",
      "17    Hong Kong  female  25-34     27638    12793      97238   \n",
      "18    Hong Kong  female  25-34     26859    12355     103053   \n",
      "19    Hong Kong  female  25-34     26611    12469      98625   \n",
      "28    Hong Kong  female  35-44     22103    10056      88561   \n",
      "38    Hong Kong  female  25-34     19779     9122      74097   \n",
      "53    Hong Kong  female  25-34     17374     8202      57625   \n",
      "55    Hong Kong  female  25-34     16030     7380      59155   \n",
      "63    Hong Kong  female  25-34     14828     7101      56828   \n",
      "68    Hong Kong  female  25-34     14535     6792      51971   \n",
      "71    Hong Kong  female  25-34     14329     6777      53192   \n",
      "83    Hong Kong  female  25-34     13829     6678      46923   \n",
      "102   Hong Kong  female  25-34     12421     5897      46363   \n",
      "111   Hong Kong  female  25-34     12016     5876      46336   \n",
      "113   Hong Kong  female  25-34     11854     5789      42665   \n",
      "419   Hong Kong  female  25-34      4820     2233      21185   \n",
      "482   Hong Kong  female  25-34      4232     1991      16943   \n",
      "498   Hong Kong  female  25-34      4084     1876      17879   \n",
      "556   Hong Kong  female  25-34      3483     1680      15648   \n",
      "586   Hong Kong  female  35-44      3286     1510      13565   \n",
      "619   Hong Kong  female  25-34      3057     1391      10998   \n",
      "688   Hong Kong  female  25-34      2628     1190       9025   \n",
      "704   Hong Kong  female  25-34      2468     1124       8719   \n",
      "755   Hong Kong  female  25-34      2216     1036       7345   \n",
      "758   Hong Kong    male  25-34      2214     1115       7375   \n",
      "769   Hong Kong  female  25-34      2166     1010       8427   \n",
      "775   Hong Kong    male  25-34      2124     1128       5829   \n",
      "792   Hong Kong  female  25-34      2056      965       7882   \n",
      "795   Hong Kong    male  25-34      2054     1126       5488   \n",
      "806   Hong Kong    male  25-34      2008     1114       5248   \n",
      "2421  Hong Kong    male  35-44        25       11         87   \n",
      "2422  Hong Kong    male  35-44        25       11         87   \n",
      "2432  Hong Kong    male  35-44        23        9         85   \n",
      "2437  Hong Kong    male  35-44        22        8         84   \n",
      "2446  Hong Kong    male  35-44        20        8         79   \n",
      "\n",
      "      Unique Pageviews  Users  Session Duration  Transactions  Quantity  \\\n",
      "0               112443  35370           6771086           114       127   \n",
      "1               109052  34276           6606338           110       123   \n",
      "2                94205  30232           5759252            97       107   \n",
      "3                91994  29153           5283978            81        87   \n",
      "4                78990  23770           4402922            69        81   \n",
      "12               67643  21596           4029044            68        75   \n",
      "17               58442  18876           3478080            61        65   \n",
      "18               57350  18350           3356526            52        57   \n",
      "19               56035  18163           3277967            52        55   \n",
      "28               47710  14346           2800077            57        64   \n",
      "38               42502  13412           2798640            66        70   \n",
      "53               36638  11862           2404350            50        54   \n",
      "55               34406  10899           2160459            46        51   \n",
      "63               30740  10166           1915469            32        36   \n",
      "68               30778   9877           2019839            41        46   \n",
      "71               30621   9709           1888581            35        37   \n",
      "83               28316   9449           1742092            28        29   \n",
      "102              25639   8394           1537909            17        18   \n",
      "111              24573   8230           1516749            21        25   \n",
      "113              24259   8087           1495659            25        27   \n",
      "419              10714   3353            691101            11        12   \n",
      "482               9283   2935            599607            11        12   \n",
      "498               9088   2893            528112            11        12   \n",
      "556               7655   2460            464510             7         8   \n",
      "586               7100   2244            405153             8         9   \n",
      "619               6575   2145            431199             6         6   \n",
      "688               5629   1838            355730             7         7   \n",
      "704               5283   1731            330016             3         3   \n",
      "755               4648   1570            297483             3         3   \n",
      "758               4474   1603            258821            14        16   \n",
      "769               4748   1498            281347             6         7   \n",
      "775               4048   1551            222782             8        10   \n",
      "792               4454   1433            251825             5         6   \n",
      "795               3859   1485            205974             6         7   \n",
      "806               3661   1446            193075             6         7   \n",
      "2421                65     13              3694             0         0   \n",
      "2422                65     13              3694             0         0   \n",
      "2432                63     11              3694             0         0   \n",
      "2437                62     10              3694             0         0   \n",
      "2446                59     10              3661             0         0   \n",
      "\n",
      "        Revenue             Affinity_list               InMarket_list  \\\n",
      "0     231256.30             Beauty Mavens  Beauty Products & Services   \n",
      "1     221057.18              Travel Buffs  Beauty Products & Services   \n",
      "2     205033.79              Movie Lovers  Beauty Products & Services   \n",
      "3     156674.16                   Foodies  Beauty Products & Services   \n",
      "4     139857.45             Beauty Mavens  Beauty Products & Services   \n",
      "12    130190.33              Travel Buffs       Apparel & Accessories   \n",
      "17    110831.46              Movie Lovers       Apparel & Accessories   \n",
      "18     90572.02                   Foodies       Apparel & Accessories   \n",
      "19     91913.62             Beauty Mavens       Apparel & Accessories   \n",
      "28    111603.56              Travel Buffs       Apparel & Accessories   \n",
      "38    140381.76              Travel Buffs                  Employment   \n",
      "53    104177.92              Movie Lovers                  Employment   \n",
      "55     89776.01                   Foodies                  Employment   \n",
      "63     64817.34              Travel Buffs             Dating Services   \n",
      "68     83260.81             Beauty Mavens                  Employment   \n",
      "71     71923.76  Social Media Enthusiasts                  Employment   \n",
      "83     52032.33              Movie Lovers             Dating Services   \n",
      "102    34436.18                   Foodies             Dating Services   \n",
      "111    44971.79  Social Media Enthusiasts             Dating Services   \n",
      "113    48407.76             Beauty Mavens             Dating Services   \n",
      "419    19147.05              Travel Buffs           Gifts & Occasions   \n",
      "482    18185.42              Movie Lovers           Gifts & Occasions   \n",
      "498    19576.92                   Foodies           Gifts & Occasions   \n",
      "556    11598.10             Beauty Mavens           Gifts & Occasions   \n",
      "586    19105.64              Travel Buffs           Gifts & Occasions   \n",
      "619    11107.62              Travel Buffs           Business Services   \n",
      "688    13232.82              Movie Lovers           Business Services   \n",
      "704     3812.02                   Foodies           Business Services   \n",
      "755     4916.02              Technophiles           Business Services   \n",
      "758    24128.84              Travel Buffs           Business Services   \n",
      "769    14840.29              Travel Buffs            Sports & Fitness   \n",
      "775    20683.56              Travel Buffs            Sports & Fitness   \n",
      "792    11105.09    Health & Fitness Buffs            Sports & Fitness   \n",
      "795    13560.46              Movie Lovers            Sports & Fitness   \n",
      "806    15365.50    Health & Fitness Buffs            Sports & Fitness   \n",
      "2421       0.00              Technophiles        Consumer Electronics   \n",
      "2422       0.00              Travel Buffs        Consumer Electronics   \n",
      "2432       0.00  Social Media Enthusiasts        Consumer Electronics   \n",
      "2437       0.00               Shutterbugs        Consumer Electronics   \n",
      "2446       0.00            Avid Investors        Consumer Electronics   \n",
      "\n",
      "      Affinity_level  InMarket_level  \n",
      "0                  1               1  \n",
      "1                  1               1  \n",
      "2                  1               1  \n",
      "3                  1               1  \n",
      "4                  1               1  \n",
      "12                 1               1  \n",
      "17                 1               1  \n",
      "18                 1               1  \n",
      "19                 1               1  \n",
      "28                 1               1  \n",
      "38                 1               1  \n",
      "53                 1               1  \n",
      "55                 1               1  \n",
      "63                 1               1  \n",
      "68                 1               1  \n",
      "71                 1               1  \n",
      "83                 1               1  \n",
      "102                1               1  \n",
      "111                1               1  \n",
      "113                1               1  \n",
      "419                1               1  \n",
      "482                1               1  \n",
      "498                1               1  \n",
      "556                1               1  \n",
      "586                1               1  \n",
      "619                1               1  \n",
      "688                1               1  \n",
      "704                1               1  \n",
      "755                1               1  \n",
      "758                1               1  \n",
      "769                1               1  \n",
      "775                1               1  \n",
      "792                1               1  \n",
      "795                1               1  \n",
      "806                1               1  \n",
      "2421               1               1  \n",
      "2422               1               1  \n",
      "2432               1               1  \n",
      "2437               1               1  \n",
      "2446               1               1  \n"
     ]
    }
   ],
   "source": [
    "# Q1: Which In-market segment has highest conversion rate (in booking per user)?\n",
    "grp_inmarket = interest_mkt.groupby(['InMarket_list'])\n",
    "print grp_inmarket.head()"
   ]
  },
  {
   "cell_type": "code",
   "execution_count": null,
   "metadata": {
    "collapsed": true
   },
   "outputs": [],
   "source": []
  }
 ],
 "metadata": {
  "kernelspec": {
   "display_name": "Python 2",
   "language": "python",
   "name": "python2"
  },
  "language_info": {
   "codemirror_mode": {
    "name": "ipython",
    "version": 2
   },
   "file_extension": ".py",
   "mimetype": "text/x-python",
   "name": "python",
   "nbconvert_exporter": "python",
   "pygments_lexer": "ipython2",
   "version": "2.7.11"
  }
 },
 "nbformat": 4,
 "nbformat_minor": 0
}
